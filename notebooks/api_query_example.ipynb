{
 "cells": [
  {
   "cell_type": "code",
   "execution_count": 1,
   "metadata": {},
   "outputs": [],
   "source": [
    "import requests\n",
    "\n",
    "website = 'http://localhost:9999'"
   ]
  },
  {
   "cell_type": "code",
   "execution_count": 2,
   "metadata": {},
   "outputs": [
    {
     "name": "stdout",
     "output_type": "stream",
     "text": [
      "<Response [500]>\n",
      "<!doctype html>\n",
      "<html lang=en>\n",
      "<title>500 Internal Server Error</title>\n",
      "<h1>Internal Server Error</h1>\n",
      "<p>The server encountered an internal error and was unable to complete your request. Either the server is overloaded or there is an error in the application.</p>\n",
      "\n"
     ]
    }
   ],
   "source": [
    "url = f'{website}/api/predict_one'\n",
    "\n",
    "model_inputs = {\n",
    "    \"gender\": 1, \n",
    "    \"age\": 75, \n",
    "    \"senior_citizen\": 1, \n",
    "    \"num_dependents\": 0, \n",
    "    \"tenure_months\": 3, \n",
    "    \"num_referrals\": 3, \n",
    "    \"total_monthly_fee\": 85.9, \n",
    "    \"total_charges_quarter\": 270.8, \n",
    "    \"contract_type\": \"Month-to-Month\",\n",
    "    \"zip_code\": 93010\n",
    "}  \n",
    "\n",
    "response = requests.post(url, json = model_inputs)\n",
    "print(response)  # 200 means OK, 400 means Bad Request\n",
    "print(response.text)"
   ]
  }
 ],
 "metadata": {
  "kernelspec": {
   "display_name": "venv",
   "language": "python",
   "name": "python3"
  },
  "language_info": {
   "codemirror_mode": {
    "name": "ipython",
    "version": 3
   },
   "file_extension": ".py",
   "mimetype": "text/x-python",
   "name": "python",
   "nbconvert_exporter": "python",
   "pygments_lexer": "ipython3",
   "version": "3.11.4"
  }
 },
 "nbformat": 4,
 "nbformat_minor": 2
}
